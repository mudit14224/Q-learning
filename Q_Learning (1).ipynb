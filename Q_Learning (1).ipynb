{
  "nbformat": 4,
  "nbformat_minor": 0,
  "metadata": {
    "colab": {
      "name": "Q-Learning.ipynb",
      "provenance": [],
      "collapsed_sections": []
    },
    "kernelspec": {
      "name": "python3",
      "display_name": "Python 3"
    }
  },
  "cells": [
    {
      "cell_type": "markdown",
      "metadata": {
        "id": "nJ6P6VtEX4vb"
      },
      "source": [
        "## **Q-Learning**"
      ]
    },
    {
      "cell_type": "code",
      "metadata": {
        "id": "L8EnTXzkX9on"
      },
      "source": [
        "import gym\r\n",
        "import numpy as np\r\n",
        "import time"
      ],
      "execution_count": null,
      "outputs": []
    },
    {
      "cell_type": "code",
      "metadata": {
        "id": "kC1PpJ56YMWZ"
      },
      "source": [
        "env = gym.make('FrozenLake-v0')\r\n",
        "STATES = env.observation_space.n\r\n",
        "ACTIONS = env.action_space.n"
      ],
      "execution_count": null,
      "outputs": []
    },
    {
      "cell_type": "code",
      "metadata": {
        "colab": {
          "base_uri": "https://localhost:8080/"
        },
        "id": "Tlbb0chpYX7a",
        "outputId": "bf75c391-43e2-4d50-d6df-108077ffa30c"
      },
      "source": [
        "Q = np.zeros((STATES, ACTIONS)) # create a Q table with all zeros cause we are going to take random actions in the beginning\r\n",
        "Q"
      ],
      "execution_count": null,
      "outputs": [
        {
          "output_type": "execute_result",
          "data": {
            "text/plain": [
              "array([[0., 0., 0., 0.],\n",
              "       [0., 0., 0., 0.],\n",
              "       [0., 0., 0., 0.],\n",
              "       [0., 0., 0., 0.],\n",
              "       [0., 0., 0., 0.],\n",
              "       [0., 0., 0., 0.],\n",
              "       [0., 0., 0., 0.],\n",
              "       [0., 0., 0., 0.],\n",
              "       [0., 0., 0., 0.],\n",
              "       [0., 0., 0., 0.],\n",
              "       [0., 0., 0., 0.],\n",
              "       [0., 0., 0., 0.],\n",
              "       [0., 0., 0., 0.],\n",
              "       [0., 0., 0., 0.],\n",
              "       [0., 0., 0., 0.],\n",
              "       [0., 0., 0., 0.]])"
            ]
          },
          "metadata": {
            "tags": []
          },
          "execution_count": 17
        }
      ]
    },
    {
      "cell_type": "code",
      "metadata": {
        "id": "JBPw3XtVYhmp"
      },
      "source": [
        "EPISODES = 1000 # How many times to run the environment from the beginning\r\n",
        "MAX_STEPS = 100 # Max no of steps allowed for each run of environment\r\n",
        "\r\n",
        "LEARNING_RATE = 0.81 # Alpha\r\n",
        "GAMMA = 0.96 # discount factor"
      ],
      "execution_count": null,
      "outputs": []
    },
    {
      "cell_type": "markdown",
      "metadata": {
        "id": "6Xq9ExyNZcRo"
      },
      "source": [
        "#  Picking an Action\r\n",
        "\r\n",
        "\r\n",
        "1.   Randomly Pick an action\r\n",
        "2.   Using Q-Matrix to find the best action\r\n",
        "\r\n"
      ]
    },
    {
      "cell_type": "code",
      "metadata": {
        "id": "Cc5YkM6zZLv8"
      },
      "source": [
        "epsilon = 0.9 # start with a 90% chance of a random action\r\n",
        "\r\n",
        "# code to pick action\r\n",
        "if np.random.uniform(0, 1) < epsilon:\r\n",
        "  action = env.action_space.sample() # take a random action\r\n",
        "else:\r\n",
        "  action = np.argmax(Q[state, :]) # using Q-table to pick out the best action"
      ],
      "execution_count": null,
      "outputs": []
    },
    {
      "cell_type": "markdown",
      "metadata": {
        "id": "xbABGDqWawAk"
      },
      "source": [
        "# Updating the Q value"
      ]
    },
    {
      "cell_type": "code",
      "metadata": {
        "id": "M7iQfrlIavmf"
      },
      "source": [
        "Q[state, action] = Q[state, action] + LEARNING_RATE * (reward + GAMMA * np.max(Q[new_state, :]) - Q[state, action])"
      ],
      "execution_count": null,
      "outputs": []
    },
    {
      "cell_type": "markdown",
      "metadata": {
        "id": "CMPp0SRVa49A"
      },
      "source": [
        "#  Putting it all together"
      ]
    },
    {
      "cell_type": "code",
      "metadata": {
        "id": "Q-hX3XQQafG1"
      },
      "source": [
        "import gym\r\n",
        "import numpy as np\r\n",
        "import time\r\n",
        "\r\n",
        "env = gym.make('FrozenLake-v0')\r\n",
        "STATES = env.observation_space.n\r\n",
        "ACTIONS = env.action_space.n\r\n",
        "\r\n",
        "Q = np.zeros((STATES, ACTIONS))\r\n",
        "\r\n",
        "EPISODES = 1500 # how many times to run the enviornment from the beginning\r\n",
        "MAX_STEPS = 100  # max number of steps allowed for each run of enviornment\r\n",
        "\r\n",
        "LEARNING_RATE = 0.81  # learning rate\r\n",
        "GAMMA = 0.96\r\n",
        "\r\n",
        "RENDER = False # if you want to see training set to true\r\n",
        "\r\n",
        "epsilon = 0.9\r\n"
      ],
      "execution_count": null,
      "outputs": []
    },
    {
      "cell_type": "code",
      "metadata": {
        "colab": {
          "base_uri": "https://localhost:8080/"
        },
        "id": "TbhhbQdgbZva",
        "outputId": "8d0ee21f-f199-4c07-9371-fda571ad85b5"
      },
      "source": [
        "rewards = []\r\n",
        "for episode in range(EPISODES):\r\n",
        "\r\n",
        "  state = env.reset()\r\n",
        "  for _ in range(MAX_STEPS):\r\n",
        "    \r\n",
        "    if RENDER:\r\n",
        "      env.render()\r\n",
        "\r\n",
        "    if np.random.uniform(0, 1) < epsilon:\r\n",
        "      action = env.action_space.sample()  \r\n",
        "    else:\r\n",
        "      action = np.argmax(Q[state, :])\r\n",
        "\r\n",
        "    next_state, reward, done, _ = env.step(action)\r\n",
        "\r\n",
        "    Q[state, action] = Q[state, action] + LEARNING_RATE * (reward + GAMMA * np.max(Q[next_state, :]) - Q[state, action])\r\n",
        "\r\n",
        "    state = next_state\r\n",
        "\r\n",
        "    if done: \r\n",
        "      rewards.append(reward)\r\n",
        "      epsilon -= 0.001\r\n",
        "      break  # reached goal\r\n",
        "\r\n",
        "print(Q)\r\n",
        "print(f\"Average reward: {sum(rewards)/len(rewards)}\")\r\n",
        "# and now we can see our Q values!"
      ],
      "execution_count": null,
      "outputs": [
        {
          "output_type": "stream",
          "text": [
            "[[1.63876218e-02 5.99038855e-01 1.64925326e-02 1.61414165e-02]\n",
            " [6.79714171e-03 3.93685565e-03 8.06054232e-03 1.91837053e-01]\n",
            " [2.84580929e-03 6.16972308e-03 3.62017021e-03 6.33748649e-02]\n",
            " [1.49023581e-03 1.93539269e-03 1.79393326e-03 3.16592961e-02]\n",
            " [3.76875867e-01 9.34326499e-03 8.45180902e-03 7.88987232e-03]\n",
            " [0.00000000e+00 0.00000000e+00 0.00000000e+00 0.00000000e+00]\n",
            " [4.70568038e-05 1.43714383e-05 6.07075450e-02 1.05165562e-05]\n",
            " [0.00000000e+00 0.00000000e+00 0.00000000e+00 0.00000000e+00]\n",
            " [3.34052664e-03 8.43247123e-03 7.28190130e-03 6.18592546e-01]\n",
            " [6.83605564e-03 7.96891805e-01 8.12624173e-03 7.88472712e-03]\n",
            " [6.52995784e-01 1.30822024e-03 1.14634371e-03 1.46737304e-03]\n",
            " [0.00000000e+00 0.00000000e+00 0.00000000e+00 0.00000000e+00]\n",
            " [0.00000000e+00 0.00000000e+00 0.00000000e+00 0.00000000e+00]\n",
            " [7.63631848e-02 2.82303676e-02 9.11006244e-01 3.41833018e-02]\n",
            " [1.63215927e-01 9.94448059e-01 8.71691405e-02 1.59977969e-01]\n",
            " [0.00000000e+00 0.00000000e+00 0.00000000e+00 0.00000000e+00]]\n",
            "Average reward: 0.254:\n"
          ],
          "name": "stdout"
        }
      ]
    },
    {
      "cell_type": "code",
      "metadata": {
        "colab": {
          "base_uri": "https://localhost:8080/",
          "height": 279
        },
        "id": "CVfaVWb2dVki",
        "outputId": "e380ca18-54b4-46dd-829d-41dd140b6d7f"
      },
      "source": [
        "# we can plot the training progress and see how the agent improved\r\n",
        "import matplotlib.pyplot as plt\r\n",
        "\r\n",
        "def get_average(values):\r\n",
        "  return sum(values)/len(values)\r\n",
        "\r\n",
        "avg_rewards = []\r\n",
        "for i in range(0, len(rewards), 100):\r\n",
        "  avg_rewards.append(get_average(rewards[i:i+100])) \r\n",
        "\r\n",
        "plt.plot(avg_rewards)\r\n",
        "plt.ylabel('average reward')\r\n",
        "plt.xlabel('episodes (100\\'s)')\r\n",
        "plt.show()"
      ],
      "execution_count": null,
      "outputs": [
        {
          "output_type": "display_data",
          "data": {
            "image/png": "[encoded data removed]",
            "text/plain": [
              "<Figure size 432x288 with 1 Axes>"
            ]
          },
          "metadata": {
            "tags": [],
            "needs_background": "light"
          }
        }
      ]
    }
  ]
}